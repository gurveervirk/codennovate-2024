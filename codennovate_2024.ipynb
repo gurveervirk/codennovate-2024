{
  "nbformat": 4,
  "nbformat_minor": 0,
  "metadata": {
    "colab": {
      "provenance": []
    },
    "kernelspec": {
      "name": "python3",
      "display_name": "Python 3"
    },
    "language_info": {
      "name": "python"
    },
    "widgets": {
      "application/vnd.jupyter.widget-state+json": {
        "1226a59188c44d3d8fa84cd4c26cf11b": {
          "model_module": "@jupyter-widgets/controls",
          "model_name": "HBoxModel",
          "model_module_version": "1.5.0",
          "state": {
            "_dom_classes": [],
            "_model_module": "@jupyter-widgets/controls",
            "_model_module_version": "1.5.0",
            "_model_name": "HBoxModel",
            "_view_count": null,
            "_view_module": "@jupyter-widgets/controls",
            "_view_module_version": "1.5.0",
            "_view_name": "HBoxView",
            "box_style": "",
            "children": [
              "IPY_MODEL_876121157c5b4eb8b7529d735284caad",
              "IPY_MODEL_6e45316a1b264da2bb06ab356af7f2e0",
              "IPY_MODEL_0ef1a6a5a5164b7ca9417463f5cd62f4"
            ],
            "layout": "IPY_MODEL_99ff673a50604b68b95eb7cd4bae3ea6"
          }
        },
        "876121157c5b4eb8b7529d735284caad": {
          "model_module": "@jupyter-widgets/controls",
          "model_name": "HTMLModel",
          "model_module_version": "1.5.0",
          "state": {
            "_dom_classes": [],
            "_model_module": "@jupyter-widgets/controls",
            "_model_module_version": "1.5.0",
            "_model_name": "HTMLModel",
            "_view_count": null,
            "_view_module": "@jupyter-widgets/controls",
            "_view_module_version": "1.5.0",
            "_view_name": "HTMLView",
            "description": "",
            "description_tooltip": null,
            "layout": "IPY_MODEL_d5b3ff7268d14d1b915d70c1c7165a98",
            "placeholder": "​",
            "style": "IPY_MODEL_2362bf2a1c68479eaa1ca91d8dcf2910",
            "value": "Parsing nodes: 100%"
          }
        },
        "6e45316a1b264da2bb06ab356af7f2e0": {
          "model_module": "@jupyter-widgets/controls",
          "model_name": "FloatProgressModel",
          "model_module_version": "1.5.0",
          "state": {
            "_dom_classes": [],
            "_model_module": "@jupyter-widgets/controls",
            "_model_module_version": "1.5.0",
            "_model_name": "FloatProgressModel",
            "_view_count": null,
            "_view_module": "@jupyter-widgets/controls",
            "_view_module_version": "1.5.0",
            "_view_name": "ProgressView",
            "bar_style": "success",
            "description": "",
            "description_tooltip": null,
            "layout": "IPY_MODEL_1f889726ecb0482dbab1421de194fa8b",
            "max": 42,
            "min": 0,
            "orientation": "horizontal",
            "style": "IPY_MODEL_962c23aad9eb427685374030510d0a73",
            "value": 42
          }
        },
        "0ef1a6a5a5164b7ca9417463f5cd62f4": {
          "model_module": "@jupyter-widgets/controls",
          "model_name": "HTMLModel",
          "model_module_version": "1.5.0",
          "state": {
            "_dom_classes": [],
            "_model_module": "@jupyter-widgets/controls",
            "_model_module_version": "1.5.0",
            "_model_name": "HTMLModel",
            "_view_count": null,
            "_view_module": "@jupyter-widgets/controls",
            "_view_module_version": "1.5.0",
            "_view_name": "HTMLView",
            "description": "",
            "description_tooltip": null,
            "layout": "IPY_MODEL_73fca151d42e4159a14441556951ab16",
            "placeholder": "​",
            "style": "IPY_MODEL_abc2f09fc26f449698912eafe05a2df2",
            "value": " 42/42 [00:00&lt;00:00, 828.90it/s]"
          }
        },
        "99ff673a50604b68b95eb7cd4bae3ea6": {
          "model_module": "@jupyter-widgets/base",
          "model_name": "LayoutModel",
          "model_module_version": "1.2.0",
          "state": {
            "_model_module": "@jupyter-widgets/base",
            "_model_module_version": "1.2.0",
            "_model_name": "LayoutModel",
            "_view_count": null,
            "_view_module": "@jupyter-widgets/base",
            "_view_module_version": "1.2.0",
            "_view_name": "LayoutView",
            "align_content": null,
            "align_items": null,
            "align_self": null,
            "border": null,
            "bottom": null,
            "display": null,
            "flex": null,
            "flex_flow": null,
            "grid_area": null,
            "grid_auto_columns": null,
            "grid_auto_flow": null,
            "grid_auto_rows": null,
            "grid_column": null,
            "grid_gap": null,
            "grid_row": null,
            "grid_template_areas": null,
            "grid_template_columns": null,
            "grid_template_rows": null,
            "height": null,
            "justify_content": null,
            "justify_items": null,
            "left": null,
            "margin": null,
            "max_height": null,
            "max_width": null,
            "min_height": null,
            "min_width": null,
            "object_fit": null,
            "object_position": null,
            "order": null,
            "overflow": null,
            "overflow_x": null,
            "overflow_y": null,
            "padding": null,
            "right": null,
            "top": null,
            "visibility": null,
            "width": null
          }
        },
        "d5b3ff7268d14d1b915d70c1c7165a98": {
          "model_module": "@jupyter-widgets/base",
          "model_name": "LayoutModel",
          "model_module_version": "1.2.0",
          "state": {
            "_model_module": "@jupyter-widgets/base",
            "_model_module_version": "1.2.0",
            "_model_name": "LayoutModel",
            "_view_count": null,
            "_view_module": "@jupyter-widgets/base",
            "_view_module_version": "1.2.0",
            "_view_name": "LayoutView",
            "align_content": null,
            "align_items": null,
            "align_self": null,
            "border": null,
            "bottom": null,
            "display": null,
            "flex": null,
            "flex_flow": null,
            "grid_area": null,
            "grid_auto_columns": null,
            "grid_auto_flow": null,
            "grid_auto_rows": null,
            "grid_column": null,
            "grid_gap": null,
            "grid_row": null,
            "grid_template_areas": null,
            "grid_template_columns": null,
            "grid_template_rows": null,
            "height": null,
            "justify_content": null,
            "justify_items": null,
            "left": null,
            "margin": null,
            "max_height": null,
            "max_width": null,
            "min_height": null,
            "min_width": null,
            "object_fit": null,
            "object_position": null,
            "order": null,
            "overflow": null,
            "overflow_x": null,
            "overflow_y": null,
            "padding": null,
            "right": null,
            "top": null,
            "visibility": null,
            "width": null
          }
        },
        "2362bf2a1c68479eaa1ca91d8dcf2910": {
          "model_module": "@jupyter-widgets/controls",
          "model_name": "DescriptionStyleModel",
          "model_module_version": "1.5.0",
          "state": {
            "_model_module": "@jupyter-widgets/controls",
            "_model_module_version": "1.5.0",
            "_model_name": "DescriptionStyleModel",
            "_view_count": null,
            "_view_module": "@jupyter-widgets/base",
            "_view_module_version": "1.2.0",
            "_view_name": "StyleView",
            "description_width": ""
          }
        },
        "1f889726ecb0482dbab1421de194fa8b": {
          "model_module": "@jupyter-widgets/base",
          "model_name": "LayoutModel",
          "model_module_version": "1.2.0",
          "state": {
            "_model_module": "@jupyter-widgets/base",
            "_model_module_version": "1.2.0",
            "_model_name": "LayoutModel",
            "_view_count": null,
            "_view_module": "@jupyter-widgets/base",
            "_view_module_version": "1.2.0",
            "_view_name": "LayoutView",
            "align_content": null,
            "align_items": null,
            "align_self": null,
            "border": null,
            "bottom": null,
            "display": null,
            "flex": null,
            "flex_flow": null,
            "grid_area": null,
            "grid_auto_columns": null,
            "grid_auto_flow": null,
            "grid_auto_rows": null,
            "grid_column": null,
            "grid_gap": null,
            "grid_row": null,
            "grid_template_areas": null,
            "grid_template_columns": null,
            "grid_template_rows": null,
            "height": null,
            "justify_content": null,
            "justify_items": null,
            "left": null,
            "margin": null,
            "max_height": null,
            "max_width": null,
            "min_height": null,
            "min_width": null,
            "object_fit": null,
            "object_position": null,
            "order": null,
            "overflow": null,
            "overflow_x": null,
            "overflow_y": null,
            "padding": null,
            "right": null,
            "top": null,
            "visibility": null,
            "width": null
          }
        },
        "962c23aad9eb427685374030510d0a73": {
          "model_module": "@jupyter-widgets/controls",
          "model_name": "ProgressStyleModel",
          "model_module_version": "1.5.0",
          "state": {
            "_model_module": "@jupyter-widgets/controls",
            "_model_module_version": "1.5.0",
            "_model_name": "ProgressStyleModel",
            "_view_count": null,
            "_view_module": "@jupyter-widgets/base",
            "_view_module_version": "1.2.0",
            "_view_name": "StyleView",
            "bar_color": null,
            "description_width": ""
          }
        },
        "73fca151d42e4159a14441556951ab16": {
          "model_module": "@jupyter-widgets/base",
          "model_name": "LayoutModel",
          "model_module_version": "1.2.0",
          "state": {
            "_model_module": "@jupyter-widgets/base",
            "_model_module_version": "1.2.0",
            "_model_name": "LayoutModel",
            "_view_count": null,
            "_view_module": "@jupyter-widgets/base",
            "_view_module_version": "1.2.0",
            "_view_name": "LayoutView",
            "align_content": null,
            "align_items": null,
            "align_self": null,
            "border": null,
            "bottom": null,
            "display": null,
            "flex": null,
            "flex_flow": null,
            "grid_area": null,
            "grid_auto_columns": null,
            "grid_auto_flow": null,
            "grid_auto_rows": null,
            "grid_column": null,
            "grid_gap": null,
            "grid_row": null,
            "grid_template_areas": null,
            "grid_template_columns": null,
            "grid_template_rows": null,
            "height": null,
            "justify_content": null,
            "justify_items": null,
            "left": null,
            "margin": null,
            "max_height": null,
            "max_width": null,
            "min_height": null,
            "min_width": null,
            "object_fit": null,
            "object_position": null,
            "order": null,
            "overflow": null,
            "overflow_x": null,
            "overflow_y": null,
            "padding": null,
            "right": null,
            "top": null,
            "visibility": null,
            "width": null
          }
        },
        "abc2f09fc26f449698912eafe05a2df2": {
          "model_module": "@jupyter-widgets/controls",
          "model_name": "DescriptionStyleModel",
          "model_module_version": "1.5.0",
          "state": {
            "_model_module": "@jupyter-widgets/controls",
            "_model_module_version": "1.5.0",
            "_model_name": "DescriptionStyleModel",
            "_view_count": null,
            "_view_module": "@jupyter-widgets/base",
            "_view_module_version": "1.2.0",
            "_view_name": "StyleView",
            "description_width": ""
          }
        },
        "67b77cc7407d43c3bfe0ece50390e147": {
          "model_module": "@jupyter-widgets/controls",
          "model_name": "HBoxModel",
          "model_module_version": "1.5.0",
          "state": {
            "_dom_classes": [],
            "_model_module": "@jupyter-widgets/controls",
            "_model_module_version": "1.5.0",
            "_model_name": "HBoxModel",
            "_view_count": null,
            "_view_module": "@jupyter-widgets/controls",
            "_view_module_version": "1.5.0",
            "_view_name": "HBoxView",
            "box_style": "",
            "children": [
              "IPY_MODEL_12544e1f15644e448a23499a26f92778",
              "IPY_MODEL_54a32f5b992947bc98a60d05b28a7771",
              "IPY_MODEL_7c3461d20fc840f8809811c792b64a33"
            ],
            "layout": "IPY_MODEL_b536af23ff184713ba4b2e4e594b44c2"
          }
        },
        "12544e1f15644e448a23499a26f92778": {
          "model_module": "@jupyter-widgets/controls",
          "model_name": "HTMLModel",
          "model_module_version": "1.5.0",
          "state": {
            "_dom_classes": [],
            "_model_module": "@jupyter-widgets/controls",
            "_model_module_version": "1.5.0",
            "_model_name": "HTMLModel",
            "_view_count": null,
            "_view_module": "@jupyter-widgets/controls",
            "_view_module_version": "1.5.0",
            "_view_name": "HTMLView",
            "description": "",
            "description_tooltip": null,
            "layout": "IPY_MODEL_ff40f4de2a424261892ad13f671354fb",
            "placeholder": "​",
            "style": "IPY_MODEL_2af2824dd5da43a38b4ddda55c1796fd",
            "value": "Generating embeddings: 100%"
          }
        },
        "54a32f5b992947bc98a60d05b28a7771": {
          "model_module": "@jupyter-widgets/controls",
          "model_name": "FloatProgressModel",
          "model_module_version": "1.5.0",
          "state": {
            "_dom_classes": [],
            "_model_module": "@jupyter-widgets/controls",
            "_model_module_version": "1.5.0",
            "_model_name": "FloatProgressModel",
            "_view_count": null,
            "_view_module": "@jupyter-widgets/controls",
            "_view_module_version": "1.5.0",
            "_view_name": "ProgressView",
            "bar_style": "success",
            "description": "",
            "description_tooltip": null,
            "layout": "IPY_MODEL_0fe0cf24fa2b407cb1b8aa2bb0453ef5",
            "max": 42,
            "min": 0,
            "orientation": "horizontal",
            "style": "IPY_MODEL_d50c5c34413742b2aac5986d711e1dd3",
            "value": 42
          }
        },
        "7c3461d20fc840f8809811c792b64a33": {
          "model_module": "@jupyter-widgets/controls",
          "model_name": "HTMLModel",
          "model_module_version": "1.5.0",
          "state": {
            "_dom_classes": [],
            "_model_module": "@jupyter-widgets/controls",
            "_model_module_version": "1.5.0",
            "_model_name": "HTMLModel",
            "_view_count": null,
            "_view_module": "@jupyter-widgets/controls",
            "_view_module_version": "1.5.0",
            "_view_name": "HTMLView",
            "description": "",
            "description_tooltip": null,
            "layout": "IPY_MODEL_473a93a18d9f4651850512791beee7d3",
            "placeholder": "​",
            "style": "IPY_MODEL_1546f3d51d8b48779bc78da432fa76c8",
            "value": " 42/42 [02:11&lt;00:00,  2.97s/it]"
          }
        },
        "b536af23ff184713ba4b2e4e594b44c2": {
          "model_module": "@jupyter-widgets/base",
          "model_name": "LayoutModel",
          "model_module_version": "1.2.0",
          "state": {
            "_model_module": "@jupyter-widgets/base",
            "_model_module_version": "1.2.0",
            "_model_name": "LayoutModel",
            "_view_count": null,
            "_view_module": "@jupyter-widgets/base",
            "_view_module_version": "1.2.0",
            "_view_name": "LayoutView",
            "align_content": null,
            "align_items": null,
            "align_self": null,
            "border": null,
            "bottom": null,
            "display": null,
            "flex": null,
            "flex_flow": null,
            "grid_area": null,
            "grid_auto_columns": null,
            "grid_auto_flow": null,
            "grid_auto_rows": null,
            "grid_column": null,
            "grid_gap": null,
            "grid_row": null,
            "grid_template_areas": null,
            "grid_template_columns": null,
            "grid_template_rows": null,
            "height": null,
            "justify_content": null,
            "justify_items": null,
            "left": null,
            "margin": null,
            "max_height": null,
            "max_width": null,
            "min_height": null,
            "min_width": null,
            "object_fit": null,
            "object_position": null,
            "order": null,
            "overflow": null,
            "overflow_x": null,
            "overflow_y": null,
            "padding": null,
            "right": null,
            "top": null,
            "visibility": null,
            "width": null
          }
        },
        "ff40f4de2a424261892ad13f671354fb": {
          "model_module": "@jupyter-widgets/base",
          "model_name": "LayoutModel",
          "model_module_version": "1.2.0",
          "state": {
            "_model_module": "@jupyter-widgets/base",
            "_model_module_version": "1.2.0",
            "_model_name": "LayoutModel",
            "_view_count": null,
            "_view_module": "@jupyter-widgets/base",
            "_view_module_version": "1.2.0",
            "_view_name": "LayoutView",
            "align_content": null,
            "align_items": null,
            "align_self": null,
            "border": null,
            "bottom": null,
            "display": null,
            "flex": null,
            "flex_flow": null,
            "grid_area": null,
            "grid_auto_columns": null,
            "grid_auto_flow": null,
            "grid_auto_rows": null,
            "grid_column": null,
            "grid_gap": null,
            "grid_row": null,
            "grid_template_areas": null,
            "grid_template_columns": null,
            "grid_template_rows": null,
            "height": null,
            "justify_content": null,
            "justify_items": null,
            "left": null,
            "margin": null,
            "max_height": null,
            "max_width": null,
            "min_height": null,
            "min_width": null,
            "object_fit": null,
            "object_position": null,
            "order": null,
            "overflow": null,
            "overflow_x": null,
            "overflow_y": null,
            "padding": null,
            "right": null,
            "top": null,
            "visibility": null,
            "width": null
          }
        },
        "2af2824dd5da43a38b4ddda55c1796fd": {
          "model_module": "@jupyter-widgets/controls",
          "model_name": "DescriptionStyleModel",
          "model_module_version": "1.5.0",
          "state": {
            "_model_module": "@jupyter-widgets/controls",
            "_model_module_version": "1.5.0",
            "_model_name": "DescriptionStyleModel",
            "_view_count": null,
            "_view_module": "@jupyter-widgets/base",
            "_view_module_version": "1.2.0",
            "_view_name": "StyleView",
            "description_width": ""
          }
        },
        "0fe0cf24fa2b407cb1b8aa2bb0453ef5": {
          "model_module": "@jupyter-widgets/base",
          "model_name": "LayoutModel",
          "model_module_version": "1.2.0",
          "state": {
            "_model_module": "@jupyter-widgets/base",
            "_model_module_version": "1.2.0",
            "_model_name": "LayoutModel",
            "_view_count": null,
            "_view_module": "@jupyter-widgets/base",
            "_view_module_version": "1.2.0",
            "_view_name": "LayoutView",
            "align_content": null,
            "align_items": null,
            "align_self": null,
            "border": null,
            "bottom": null,
            "display": null,
            "flex": null,
            "flex_flow": null,
            "grid_area": null,
            "grid_auto_columns": null,
            "grid_auto_flow": null,
            "grid_auto_rows": null,
            "grid_column": null,
            "grid_gap": null,
            "grid_row": null,
            "grid_template_areas": null,
            "grid_template_columns": null,
            "grid_template_rows": null,
            "height": null,
            "justify_content": null,
            "justify_items": null,
            "left": null,
            "margin": null,
            "max_height": null,
            "max_width": null,
            "min_height": null,
            "min_width": null,
            "object_fit": null,
            "object_position": null,
            "order": null,
            "overflow": null,
            "overflow_x": null,
            "overflow_y": null,
            "padding": null,
            "right": null,
            "top": null,
            "visibility": null,
            "width": null
          }
        },
        "d50c5c34413742b2aac5986d711e1dd3": {
          "model_module": "@jupyter-widgets/controls",
          "model_name": "ProgressStyleModel",
          "model_module_version": "1.5.0",
          "state": {
            "_model_module": "@jupyter-widgets/controls",
            "_model_module_version": "1.5.0",
            "_model_name": "ProgressStyleModel",
            "_view_count": null,
            "_view_module": "@jupyter-widgets/base",
            "_view_module_version": "1.2.0",
            "_view_name": "StyleView",
            "bar_color": null,
            "description_width": ""
          }
        },
        "473a93a18d9f4651850512791beee7d3": {
          "model_module": "@jupyter-widgets/base",
          "model_name": "LayoutModel",
          "model_module_version": "1.2.0",
          "state": {
            "_model_module": "@jupyter-widgets/base",
            "_model_module_version": "1.2.0",
            "_model_name": "LayoutModel",
            "_view_count": null,
            "_view_module": "@jupyter-widgets/base",
            "_view_module_version": "1.2.0",
            "_view_name": "LayoutView",
            "align_content": null,
            "align_items": null,
            "align_self": null,
            "border": null,
            "bottom": null,
            "display": null,
            "flex": null,
            "flex_flow": null,
            "grid_area": null,
            "grid_auto_columns": null,
            "grid_auto_flow": null,
            "grid_auto_rows": null,
            "grid_column": null,
            "grid_gap": null,
            "grid_row": null,
            "grid_template_areas": null,
            "grid_template_columns": null,
            "grid_template_rows": null,
            "height": null,
            "justify_content": null,
            "justify_items": null,
            "left": null,
            "margin": null,
            "max_height": null,
            "max_width": null,
            "min_height": null,
            "min_width": null,
            "object_fit": null,
            "object_position": null,
            "order": null,
            "overflow": null,
            "overflow_x": null,
            "overflow_y": null,
            "padding": null,
            "right": null,
            "top": null,
            "visibility": null,
            "width": null
          }
        },
        "1546f3d51d8b48779bc78da432fa76c8": {
          "model_module": "@jupyter-widgets/controls",
          "model_name": "DescriptionStyleModel",
          "model_module_version": "1.5.0",
          "state": {
            "_model_module": "@jupyter-widgets/controls",
            "_model_module_version": "1.5.0",
            "_model_name": "DescriptionStyleModel",
            "_view_count": null,
            "_view_module": "@jupyter-widgets/base",
            "_view_module_version": "1.2.0",
            "_view_name": "StyleView",
            "description_width": ""
          }
        }
      }
    }
  },
  "cells": [
    {
      "cell_type": "code",
      "execution_count": 1,
      "metadata": {
        "colab": {
          "base_uri": "https://localhost:8080/"
        },
        "collapsed": true,
        "id": "MTRcwIjU766P",
        "outputId": "485132e7-f514-40d8-f0b3-a4083199b1c6"
      },
      "outputs": [
        {
          "output_type": "stream",
          "name": "stdout",
          "text": [
            "\u001b[?25l   \u001b[90m━━━━━━━━━━━━━━━━━━━━━━━━━━━━━━━━━━━━━━━━\u001b[0m \u001b[32m0.0/150.7 kB\u001b[0m \u001b[31m?\u001b[0m eta \u001b[36m-:--:--\u001b[0m\r\u001b[2K   \u001b[90m━━━━━━━━━━━━━━━━━━━━━━━━━━━━━━━━━━━━━━━━\u001b[0m \u001b[32m150.7/150.7 kB\u001b[0m \u001b[31m6.0 MB/s\u001b[0m eta \u001b[36m0:00:00\u001b[0m\n",
            "\u001b[2K   \u001b[90m━━━━━━━━━━━━━━━━━━━━━━━━━━━━━━━━━━━━━━━━\u001b[0m \u001b[32m679.1/679.1 kB\u001b[0m \u001b[31m15.4 MB/s\u001b[0m eta \u001b[36m0:00:00\u001b[0m\n",
            "\u001b[2K   \u001b[90m━━━━━━━━━━━━━━━━━━━━━━━━━━━━━━━━━━━━━━━━\u001b[0m \u001b[32m1.6/1.6 MB\u001b[0m \u001b[31m37.7 MB/s\u001b[0m eta \u001b[36m0:00:00\u001b[0m\n",
            "\u001b[2K   \u001b[90m━━━━━━━━━━━━━━━━━━━━━━━━━━━━━━━━━━━━━━━━\u001b[0m \u001b[32m1.2/1.2 MB\u001b[0m \u001b[31m44.7 MB/s\u001b[0m eta \u001b[36m0:00:00\u001b[0m\n",
            "\u001b[2K   \u001b[90m━━━━━━━━━━━━━━━━━━━━━━━━━━━━━━━━━━━━━━━━\u001b[0m \u001b[32m301.7/301.7 kB\u001b[0m \u001b[31m21.3 MB/s\u001b[0m eta \u001b[36m0:00:00\u001b[0m\n",
            "\u001b[2K   \u001b[90m━━━━━━━━━━━━━━━━━━━━━━━━━━━━━━━━━━━━━━━━\u001b[0m \u001b[32m4.5/4.5 MB\u001b[0m \u001b[31m63.5 MB/s\u001b[0m eta \u001b[36m0:00:00\u001b[0m\n",
            "\u001b[2K   \u001b[90m━━━━━━━━━━━━━━━━━━━━━━━━━━━━━━━━━━━━━━━━\u001b[0m \u001b[32m189.0/189.0 kB\u001b[0m \u001b[31m14.6 MB/s\u001b[0m eta \u001b[36m0:00:00\u001b[0m\n",
            "\u001b[2K   \u001b[90m━━━━━━━━━━━━━━━━━━━━━━━━━━━━━━━━━━━━━━━━\u001b[0m \u001b[32m298.0/298.0 kB\u001b[0m \u001b[31m4.2 MB/s\u001b[0m eta \u001b[36m0:00:00\u001b[0m\n",
            "\u001b[2K   \u001b[90m━━━━━━━━━━━━━━━━━━━━━━━━━━━━━━━━━━━━━━━━\u001b[0m \u001b[32m1.2/1.2 MB\u001b[0m \u001b[31m42.5 MB/s\u001b[0m eta \u001b[36m0:00:00\u001b[0m\n",
            "\u001b[2K   \u001b[90m━━━━━━━━━━━━━━━━━━━━━━━━━━━━━━━━━━━━━━━━\u001b[0m \u001b[32m49.5/49.5 kB\u001b[0m \u001b[31m4.1 MB/s\u001b[0m eta \u001b[36m0:00:00\u001b[0m\n",
            "\u001b[?25h"
          ]
        }
      ],
      "source": [
        "!pip install -q llama-index llama-index-vector-stores-neo4jvector llama-index-llms-gemini llama-index-embeddings-gemini"
      ]
    },
    {
      "cell_type": "code",
      "source": [
        "from llama_index.core import VectorStoreIndex, SimpleDirectoryReader, StorageContext, Settings, get_response_synthesizer\n",
        "from llama_index.core.retrievers import VectorIndexRetriever\n",
        "from llama_index.core.query_engine import RetrieverQueryEngine\n",
        "from llama_index.embeddings.gemini import GeminiEmbedding\n",
        "from llama_index.vector_stores.neo4jvector import Neo4jVectorStore\n",
        "from llama_index.llms.gemini import Gemini\n",
        "from llama_index.core.prompts.base import PromptTemplate\n",
        "from llama_index.core.prompts.prompt_type import PromptType\n",
        "from llama_index.core.memory import ChatMemoryBuffer\n",
        "from llama_index.core.response.pprint_utils import pprint_response\n",
        "from google.colab import userdata"
      ],
      "metadata": {
        "id": "YxFpIJjL9Osa"
      },
      "execution_count": 2,
      "outputs": []
    },
    {
      "cell_type": "code",
      "source": [
        "def get_page_numbers(nodes):\n",
        "    page_numbers = set()\n",
        "    for node in nodes:\n",
        "        page_numbers.add(node.metadata[\"page_label\"])\n",
        "    return sorted(list(page_numbers))"
      ],
      "metadata": {
        "id": "4YrsJxX7Q-J6"
      },
      "execution_count": 3,
      "outputs": []
    },
    {
      "cell_type": "code",
      "source": [
        "api_key = userdata.get('GOOGLE_API_KEY')\n",
        "Settings.embed_model = GeminiEmbedding(\n",
        "    api_key = api_key,\n",
        "    model_name = \"models/text-embedding-004\",\n",
        ")\n",
        "Settings.llm = Gemini(\n",
        "    model=\"models/gemini-1.5-flash\",\n",
        "    api_key=api_key\n",
        ")"
      ],
      "metadata": {
        "id": "nfIRS5H4BaPN"
      },
      "execution_count": 50,
      "outputs": []
    },
    {
      "cell_type": "code",
      "source": [
        "username = \"neo4j\"\n",
        "password = userdata.get('NEO4J_PASSWORD')\n",
        "url = userdata.get('NEO4J_URL')\n",
        "embed_dim = 768\n",
        "\n",
        "neo4j_vector = Neo4jVectorStore(username, password, url, embed_dim, hybrid_search=True)"
      ],
      "metadata": {
        "id": "CvTTJoL68nNe"
      },
      "execution_count": 5,
      "outputs": []
    },
    {
      "cell_type": "code",
      "source": [
        "!mkdir -p 'data/'\n",
        "!wget 'https://content.dgft.gov.in/Website/NCSTC Booklet.pdf' -O 'data/NCSTC Booklet.pdf'"
      ],
      "metadata": {
        "colab": {
          "base_uri": "https://localhost:8080/"
        },
        "id": "3csOmZ67-m68",
        "outputId": "5cb1061d-4b5d-4ce2-fd57-ec66360f22bb"
      },
      "execution_count": 6,
      "outputs": [
        {
          "output_type": "stream",
          "name": "stdout",
          "text": [
            "--2024-11-30 19:15:06--  https://content.dgft.gov.in/Website/NCSTC%20Booklet.pdf\n",
            "Resolving content.dgft.gov.in (content.dgft.gov.in)... 3.169.137.12, 3.169.137.41, 3.169.137.119, ...\n",
            "Connecting to content.dgft.gov.in (content.dgft.gov.in)|3.169.137.12|:443... connected.\n",
            "HTTP request sent, awaiting response... 200 OK\n",
            "Length: 17231175 (16M) [application/pdf]\n",
            "Saving to: ‘data/NCSTC Booklet.pdf’\n",
            "\n",
            "data/NCSTC Booklet. 100%[===================>]  16.43M  11.6MB/s    in 1.4s    \n",
            "\n",
            "2024-11-30 19:15:09 (11.6 MB/s) - ‘data/NCSTC Booklet.pdf’ saved [17231175/17231175]\n",
            "\n"
          ]
        }
      ]
    },
    {
      "cell_type": "code",
      "source": [
        "documents = SimpleDirectoryReader(\"./data\").load_data()"
      ],
      "metadata": {
        "id": "tpb43Fzy-8n-"
      },
      "execution_count": 7,
      "outputs": []
    },
    {
      "cell_type": "code",
      "source": [
        "storage_context = StorageContext.from_defaults(vector_store=neo4j_vector)\n",
        "index = VectorStoreIndex.from_documents(\n",
        "    documents, storage_context=storage_context, show_progress=True\n",
        ")"
      ],
      "metadata": {
        "colab": {
          "base_uri": "https://localhost:8080/",
          "height": 136,
          "referenced_widgets": [
            "1226a59188c44d3d8fa84cd4c26cf11b",
            "876121157c5b4eb8b7529d735284caad",
            "6e45316a1b264da2bb06ab356af7f2e0",
            "0ef1a6a5a5164b7ca9417463f5cd62f4",
            "99ff673a50604b68b95eb7cd4bae3ea6",
            "d5b3ff7268d14d1b915d70c1c7165a98",
            "2362bf2a1c68479eaa1ca91d8dcf2910",
            "1f889726ecb0482dbab1421de194fa8b",
            "962c23aad9eb427685374030510d0a73",
            "73fca151d42e4159a14441556951ab16",
            "abc2f09fc26f449698912eafe05a2df2",
            "67b77cc7407d43c3bfe0ece50390e147",
            "12544e1f15644e448a23499a26f92778",
            "54a32f5b992947bc98a60d05b28a7771",
            "7c3461d20fc840f8809811c792b64a33",
            "b536af23ff184713ba4b2e4e594b44c2",
            "ff40f4de2a424261892ad13f671354fb",
            "2af2824dd5da43a38b4ddda55c1796fd",
            "0fe0cf24fa2b407cb1b8aa2bb0453ef5",
            "d50c5c34413742b2aac5986d711e1dd3",
            "473a93a18d9f4651850512791beee7d3",
            "1546f3d51d8b48779bc78da432fa76c8"
          ]
        },
        "id": "x6doZaqr9VM8",
        "outputId": "365153f4-787a-4ab4-c843-aeb5b0dcaccd"
      },
      "execution_count": 8,
      "outputs": [
        {
          "output_type": "display_data",
          "data": {
            "text/plain": [
              "Parsing nodes:   0%|          | 0/42 [00:00<?, ?it/s]"
            ],
            "application/vnd.jupyter.widget-view+json": {
              "version_major": 2,
              "version_minor": 0,
              "model_id": "1226a59188c44d3d8fa84cd4c26cf11b"
            }
          },
          "metadata": {}
        },
        {
          "output_type": "display_data",
          "data": {
            "text/plain": [
              "Generating embeddings:   0%|          | 0/42 [00:00<?, ?it/s]"
            ],
            "application/vnd.jupyter.widget-view+json": {
              "version_major": 2,
              "version_minor": 0,
              "model_id": "67b77cc7407d43c3bfe0ece50390e147"
            }
          },
          "metadata": {}
        },
        {
          "output_type": "stream",
          "name": "stderr",
          "text": [
            "WARNING:neo4j.notifications:Received notification from DBMS server: {severity: WARNING} {code: Neo.ClientNotification.Statement.FeatureDeprecationWarning} {category: DEPRECATION} {title: This feature is deprecated and will be removed in future versions.} {description: CALL subquery without a variable scope clause is now deprecated. Use CALL (row) { ... }} {position: line: 1, column: 21, offset: 20} for query: \"UNWIND $data AS row CALL { WITH row MERGE (c:`Chunk` {id: row.id}) WITH c, row CALL db.create.setVectorProperty(c, 'embedding', row.embedding) YIELD node SET c.`text` = row.text SET c += row.metadata } IN TRANSACTIONS OF 1000 ROWS\"\n",
            "WARNING:neo4j.notifications:Received notification from DBMS server: {severity: WARNING} {code: Neo.ClientNotification.Statement.FeatureDeprecationWarning} {category: DEPRECATION} {title: This feature is deprecated and will be removed in future versions.} {description: The query used a deprecated procedure. ('db.create.setVectorProperty' has been replaced by 'db.create.setNodeVectorProperty')} {position: line: 1, column: 80, offset: 79} for query: \"UNWIND $data AS row CALL { WITH row MERGE (c:`Chunk` {id: row.id}) WITH c, row CALL db.create.setVectorProperty(c, 'embedding', row.embedding) YIELD node SET c.`text` = row.text SET c += row.metadata } IN TRANSACTIONS OF 1000 ROWS\"\n"
          ]
        }
      ]
    },
    {
      "cell_type": "markdown",
      "source": [
        "# Retriever Query Engine"
      ],
      "metadata": {
        "id": "k1JPitqoItq8"
      }
    },
    {
      "cell_type": "code",
      "source": [
        "retriever = VectorIndexRetriever(\n",
        "    index=index,\n",
        "    similarity_top_k=5,  # Adjust based on how many nodes you want to retrieve\n",
        ")\n",
        "\n",
        "DEFAULT_TEXT_QA_PROMPT_TMPL = (\n",
        "    \"Context information is below.\\n\"\n",
        "    \"---------------------\\n\"\n",
        "    \"{context_str}\\n\"\n",
        "    \"---------------------\\n\"\n",
        "    \"Given the context information and no prior knowledge, \"\n",
        "    \"answer the query.\\n\"\n",
        "    \"Please include all dependencies and details in the answer.\\n\"\n",
        "    \"If there are dependencies that exist in the provided context, include that in detail, completely.\"\n",
        "    \"Do not just reference it.\\n\"\n",
        "    \"Query: {query_str}\\n\"\n",
        "    \"Answer: \"\n",
        ")\n",
        "DEFAULT_TEXT_QA_PROMPT = PromptTemplate(\n",
        "    DEFAULT_TEXT_QA_PROMPT_TMPL, prompt_type=PromptType.QUESTION_ANSWER\n",
        ")\n",
        "\n",
        "# Configure response synthesizer\n",
        "response_synthesizer = get_response_synthesizer(\n",
        "    response_mode=\"compact\",\n",
        "    text_qa_template=DEFAULT_TEXT_QA_PROMPT,\n",
        ")\n",
        "\n",
        "# Initialize query engine\n",
        "query_engine = RetrieverQueryEngine(\n",
        "    retriever=retriever,\n",
        "    response_synthesizer=response_synthesizer,\n",
        ")"
      ],
      "metadata": {
        "id": "Kh7EYN4Y_rxU"
      },
      "execution_count": null,
      "outputs": []
    },
    {
      "cell_type": "code",
      "source": [
        "# Perform the query\n",
        "prompt = \"List the requirements for export of spare parts under SCOMET under stock and sale.\"\n",
        "response = query_engine.query(prompt)"
      ],
      "metadata": {
        "colab": {
          "base_uri": "https://localhost:8080/",
          "height": 54
        },
        "id": "7tctgYGDCIvA",
        "outputId": "3dfc0771-7f57-4e63-a271-e85b97e3a968"
      },
      "execution_count": null,
      "outputs": [
        {
          "output_type": "stream",
          "name": "stderr",
          "text": [
            "WARNING:neo4j.notifications:Received notification from DBMS server: {severity: WARNING} {code: Neo.ClientNotification.Statement.FeatureDeprecationWarning} {category: DEPRECATION} {title: This feature is deprecated and will be removed in future versions.} {description: CALL subquery without a variable scope clause is now deprecated. Use CALL () { ... }} {position: line: 1, column: 1, offset: 0} for query: 'CALL { CALL db.index.vector.queryNodes($index, $k, $embedding) YIELD node, score WITH collect({node:node, score:score}) AS nodes, max(score) AS max UNWIND nodes AS n RETURN n.node AS node, (n.score / max) AS score UNION CALL db.index.fulltext.queryNodes($keyword_index, $query, {limit: $k}) YIELD node, score WITH collect({node:node, score:score}) AS nodes, max(score) AS max UNWIND nodes AS n RETURN n.node AS node, (n.score / max) AS score } WITH node, max(score) AS score ORDER BY score DESC LIMIT $k RETURN node.`text` AS text, score, node.id AS id, node {.*, `text`: Null, `embedding`: Null, id: Null } AS metadata'\n"
          ]
        }
      ]
    },
    {
      "cell_type": "code",
      "source": [
        "pprint_response(response, show_source=True)"
      ],
      "metadata": {
        "colab": {
          "base_uri": "https://localhost:8080/"
        },
        "id": "V2XB5y8EEyX_",
        "outputId": "56faadeb-e27e-459e-c1e5-04ad7403b49a"
      },
      "execution_count": null,
      "outputs": [
        {
          "output_type": "stream",
          "name": "stdout",
          "text": [
            "Final Response: The requirements for exporting spare parts under\n",
            "SCOMET under the Stock and Sale policy are the same as those for\n",
            "exporting main items/equipment under Stock and Sale, plus an\n",
            "additional requirement:  **Requirements from Section 5 (Export for\n",
            "Stock and Sale purpose):**  *   Application in the prescribed proforma\n",
            "(ANF-10B) *   Documentary proof regarding the corporate relationship\n",
            "between the Indian exporter and stockist. *   End-use/End-user\n",
            "Certificate from the stockist entity abroad in Appendix 10J(iii). *\n",
            "List of countries (in the EUC) to which the items imported from India\n",
            "would be exported by the stockist.   **Additional Requirement from\n",
            "Section 6 (Export of spare parts under SCOMET under Stock and Sale):**\n",
            "*   The applicant needs to indicate the requirement of spare parts\n",
            "after judicious and reasonable assessment with justification thereof.\n",
            "This means a clear explanation of why the spare parts are needed,\n",
            "demonstrating a reasonable and well-considered need.   In summary,\n",
            "exporting spare parts under SCOMET's Stock and Sale policy\n",
            "necessitates fulfilling all the documentation and relationship\n",
            "requirements for the main item export, along with providing a\n",
            "justified assessment of the spare parts' necessity.\n",
            "______________________________________________________________________\n",
            "Source Node 1/5\n",
            "Node ID: cbd6a98e-a046-42db-bb67-f66d9ffceda6\n",
            "Similarity: 1.0\n",
            "Text: Same country/entities would imply that (a) the foreign buyer (b)\n",
            "the consignee or the intermediaries, if any (c) the end user  and (d)\n",
            "the end use are exactly the same for which export authorisation has\n",
            "been issued to the applicant exporter earlier after due\n",
            "consultation/verification. Copy of Original SCOMET Authorization\n",
            "Purchase Order Copy En...\n",
            "______________________________________________________________________\n",
            "Source Node 2/5\n",
            "Node ID: fa30fe6e-9082-4530-8c69-7656fb4fde31\n",
            "Similarity: 0.9825897888666132\n",
            "Text: B. Stock and Sale Policy 1. What does the 'Stock and Sale'\n",
            "policy refer to in SCOMET item exports? The 'Stock and Sale' policy\n",
            "allows Indian exporters to send SCOMET items to an entity abroad\n",
            "(stockist) for subsequent transfer to ultimate end users. 2. Who\n",
            "qualifies as a 'Stockist' under this policy? ‘Stockist’ refers to the\n",
            "entity abroad to who...\n",
            "______________________________________________________________________\n",
            "Source Node 3/5\n",
            "Node ID: 6fe7fcc2-c627-44c6-9630-fcf4d64912bb\n",
            "Similarity: 0.9704136129214375\n",
            "Text: 8. Can I apply for repeat orders under this policy? Yes, Repeat\n",
            "can be applied for the export of the same SCOMET items to the same\n",
            "stockist entity, and re-export/re-transfer of the same SCOMET items\n",
            "from the stockist entity to the end users (within the country of the\n",
            "stockist entity and only the countries of ultimate end use where in-\n",
            "principle a...\n",
            "______________________________________________________________________\n",
            "Source Node 4/5\n",
            "Node ID: 76ce458c-1b73-4da7-9e41-f4bdc663a947\n",
            "Similarity: 0.9682707543068367\n",
            "Text: Registration       The exporter has to register themselves on\n",
            "the DGFT website                     Identifying the SCOMET item\n",
            "The exporter needs to identify whether his products falls under SCOMET\n",
            "or not. SCOMET List needs to be referred for the same. Identifying the\n",
            "SCOMET Category and Sub category    The exporter has to refer to the\n",
            "SCOMET...\n",
            "______________________________________________________________________\n",
            "Source Node 5/5\n",
            "Node ID: 4f53d18b-7d9d-4a4e-b3a9-8b791f85bff4\n",
            "Similarity: 0.9614888128357231\n",
            "Text: 2. Export of SCOMET Items from SEZ / EOU to outside  the country\n",
            "Export authorization  is required if the SCOMET items are to be\n",
            "physically exported outside the country from SEZ / EOU i.e. to another\n",
            "country (Refer Rule 26 of the SEZ Rules, 2006). 3.  Fresh Export of\n",
            "SCOMET Item (Under Category 1-5 & 8) (Exporting an SCOMET item for the\n",
            "first ti...\n"
          ]
        }
      ]
    },
    {
      "cell_type": "markdown",
      "source": [
        "# Chat Engine"
      ],
      "metadata": {
        "id": "kYlYD4_wI4Sb"
      }
    },
    {
      "cell_type": "code",
      "source": [
        "def check_for_references(text):\n",
        "  prompt = \"\"\"\n",
        "  Provided is a generated output for a user's query by checking the available context.\n",
        "  Check the output if it contains references to a specific thing only without explaining it in detail.\n",
        "  These include scenarios and cases where the output asks the user specifically to refer to another area such as Appendix, Para, Document etc to get some more info.\n",
        "  If it contains any, return them one per line, else return None.\n",
        "  Skip abstract references.\n",
        "\n",
        "  Generated Output:\n",
        "  {text}\n",
        "  \"\"\"\n",
        "  references = Settings.llm.complete(prompt=prompt.format(text=text)).text.strip()\n",
        "  if references == \"None\":\n",
        "    return None\n",
        "  references = list(set([reference.lower() for reference in references.split(\"\\n\")]))\n",
        "  return references\n",
        "\n",
        "def refine_response(text):\n",
        "  references = check_for_references(text)\n",
        "  prompts = []\n",
        "\n",
        "  for reference in references:\n",
        "    refine_prompt = \"\"\"\n",
        "    Provided are a generated output for a user's query and a reference to a specific thing the output contains.\n",
        "    Understand the generated output and check where the reference is mentioned.\n",
        "    Based on that, create a prompt, that would be used to query for the reference.\n",
        "    The reference needs to be emphasized and should be the focus point, so as to improve querying for it.\n",
        "    Return the prompt in plain text question format.\n",
        "\n",
        "    Generated Output:\n",
        "    {text}\n",
        "\n",
        "    Reference:\n",
        "    {reference}\n",
        "\n",
        "    Query Prompt:\n",
        "    \"\"\"\n",
        "    prompts.append(Settings.llm.complete(prompt=refine_prompt.format(text=text, reference=reference)).text.strip())\n",
        "\n",
        "  if len(prompts) == 0:\n",
        "    return text, []\n",
        "\n",
        "  source_nodes = []\n",
        "\n",
        "  for prompt in prompts:\n",
        "    refine_chat_engine = index.as_chat_engine(\n",
        "        chat_mode=\"context\",\n",
        "        memory=memory,\n",
        "        system_prompt=(\n",
        "            \"You are a chatbot designed to refine the following text, if possible,\"\n",
        "            \" using the provided context. If not, append the detailed explanation to\"\n",
        "            \" the provided text.\"\n",
        "            f\"Text:\\n{text}\"\n",
        "        ),\n",
        "    )\n",
        "    response = refine_chat_engine.chat(prompt)\n",
        "    source_nodes.append(response.source_nodes)\n",
        "    text = response.response\n",
        "\n",
        "  return text, source_nodes"
      ],
      "metadata": {
        "id": "6DNBozyVd7g9"
      },
      "execution_count": 87,
      "outputs": []
    },
    {
      "cell_type": "code",
      "source": [
        "memory = ChatMemoryBuffer.from_defaults(\n",
        "    token_limit=4096\n",
        ")\n",
        "chat_engine = index.as_chat_engine(\n",
        "    chat_mode=\"context\",\n",
        "    memory=memory,\n",
        "    system_prompt=(\n",
        "        \"You are a chatbot, able to have normal interactions, as well as use\"\n",
        "        \" the context provided to return complete, in detail answers with dependencies completely listed\"\n",
        "        \" and explained, rather than just being referenced. If the dependencies are not available in the context,\"\n",
        "        \" just reference them.\"\n",
        "    ),\n",
        ")"
      ],
      "metadata": {
        "id": "LVDdfQZaI9JP"
      },
      "execution_count": 10,
      "outputs": []
    },
    {
      "cell_type": "code",
      "source": [
        "# Perform the query\n",
        "prompt = \"List the requirements for export of spare parts under SCOMET under stock and sale.\"\n",
        "response = chat_engine.chat(prompt)"
      ],
      "metadata": {
        "colab": {
          "base_uri": "https://localhost:8080/",
          "height": 54
        },
        "id": "8F1gBOwCLloj",
        "outputId": "7f717045-2ef3-437b-f285-45cd459c3cec"
      },
      "execution_count": 11,
      "outputs": [
        {
          "output_type": "stream",
          "name": "stderr",
          "text": [
            "WARNING:neo4j.notifications:Received notification from DBMS server: {severity: WARNING} {code: Neo.ClientNotification.Statement.FeatureDeprecationWarning} {category: DEPRECATION} {title: This feature is deprecated and will be removed in future versions.} {description: CALL subquery without a variable scope clause is now deprecated. Use CALL () { ... }} {position: line: 1, column: 1, offset: 0} for query: 'CALL { CALL db.index.vector.queryNodes($index, $k, $embedding) YIELD node, score WITH collect({node:node, score:score}) AS nodes, max(score) AS max UNWIND nodes AS n RETURN n.node AS node, (n.score / max) AS score UNION CALL db.index.fulltext.queryNodes($keyword_index, $query, {limit: $k}) YIELD node, score WITH collect({node:node, score:score}) AS nodes, max(score) AS max UNWIND nodes AS n RETURN n.node AS node, (n.score / max) AS score } WITH node, max(score) AS score ORDER BY score DESC LIMIT $k RETURN node.`text` AS text, score, node.id AS id, node {.*, `text`: Null, `embedding`: Null, id: Null } AS metadata'\n"
          ]
        }
      ]
    },
    {
      "cell_type": "code",
      "source": [
        "# References extracted successfully!\n",
        "check_for_references(response.response)"
      ],
      "metadata": {
        "colab": {
          "base_uri": "https://localhost:8080/",
          "height": 104
        },
        "id": "a78vA0Regt0t",
        "outputId": "78bae374-5d12-4dc4-b111-377669b96404"
      },
      "execution_count": 68,
      "outputs": [
        {
          "output_type": "execute_result",
          "data": {
            "text/plain": [
              "['appendix 10j(i)',\n",
              " 'anf-10b',\n",
              " 'appendix 10j(iii)',\n",
              " 'appendix 10j(ii)',\n",
              " 'para 10.10 of hbp 2023']"
            ]
          },
          "metadata": {},
          "execution_count": 68
        }
      ]
    },
    {
      "cell_type": "code",
      "source": [
        "# Null example\n",
        "check_for_references(\"\"\"\n",
        "Requirements for tea:\n",
        "1. cup\n",
        "2. tea\n",
        "\"\"\") == None"
      ],
      "metadata": {
        "colab": {
          "base_uri": "https://localhost:8080/",
          "height": 34
        },
        "id": "1ThDCtFx0c2-",
        "outputId": "45b22215-d808-459d-e742-96b418e69099"
      },
      "execution_count": 67,
      "outputs": [
        {
          "output_type": "execute_result",
          "data": {
            "text/plain": [
              "True"
            ]
          },
          "metadata": {},
          "execution_count": 67
        }
      ]
    },
    {
      "cell_type": "code",
      "source": [
        "refined_prompts = refine_response(response.response)"
      ],
      "metadata": {
        "colab": {
          "base_uri": "https://localhost:8080/",
          "height": 124
        },
        "id": "LR-vuH7G6IuW",
        "outputId": "365855d0-a906-4de3-8e53-1e388710ecbe"
      },
      "execution_count": 88,
      "outputs": [
        {
          "output_type": "stream",
          "name": "stderr",
          "text": [
            "WARNING:neo4j.notifications:Received notification from DBMS server: {severity: WARNING} {code: Neo.ClientNotification.Statement.FeatureDeprecationWarning} {category: DEPRECATION} {title: This feature is deprecated and will be removed in future versions.} {description: CALL subquery without a variable scope clause is now deprecated. Use CALL () { ... }} {position: line: 1, column: 1, offset: 0} for query: 'CALL { CALL db.index.vector.queryNodes($index, $k, $embedding) YIELD node, score WITH collect({node:node, score:score}) AS nodes, max(score) AS max UNWIND nodes AS n RETURN n.node AS node, (n.score / max) AS score UNION CALL db.index.fulltext.queryNodes($keyword_index, $query, {limit: $k}) YIELD node, score WITH collect({node:node, score:score}) AS nodes, max(score) AS max UNWIND nodes AS n RETURN n.node AS node, (n.score / max) AS score } WITH node, max(score) AS score ORDER BY score DESC LIMIT $k RETURN node.`text` AS text, score, node.id AS id, node {.*, `text`: Null, `embedding`: Null, id: Null } AS metadata'\n",
            "WARNING:neo4j.notifications:Received notification from DBMS server: {severity: WARNING} {code: Neo.ClientNotification.Statement.FeatureDeprecationWarning} {category: DEPRECATION} {title: This feature is deprecated and will be removed in future versions.} {description: CALL subquery without a variable scope clause is now deprecated. Use CALL () { ... }} {position: line: 1, column: 1, offset: 0} for query: 'CALL { CALL db.index.vector.queryNodes($index, $k, $embedding) YIELD node, score WITH collect({node:node, score:score}) AS nodes, max(score) AS max UNWIND nodes AS n RETURN n.node AS node, (n.score / max) AS score UNION CALL db.index.fulltext.queryNodes($keyword_index, $query, {limit: $k}) YIELD node, score WITH collect({node:node, score:score}) AS nodes, max(score) AS max UNWIND nodes AS n RETURN n.node AS node, (n.score / max) AS score } WITH node, max(score) AS score ORDER BY score DESC LIMIT $k RETURN node.`text` AS text, score, node.id AS id, node {.*, `text`: Null, `embedding`: Null, id: Null } AS metadata'\n",
            "WARNING:neo4j.notifications:Received notification from DBMS server: {severity: WARNING} {code: Neo.ClientNotification.Statement.FeatureDeprecationWarning} {category: DEPRECATION} {title: This feature is deprecated and will be removed in future versions.} {description: CALL subquery without a variable scope clause is now deprecated. Use CALL () { ... }} {position: line: 1, column: 1, offset: 0} for query: 'CALL { CALL db.index.vector.queryNodes($index, $k, $embedding) YIELD node, score WITH collect({node:node, score:score}) AS nodes, max(score) AS max UNWIND nodes AS n RETURN n.node AS node, (n.score / max) AS score UNION CALL db.index.fulltext.queryNodes($keyword_index, $query, {limit: $k}) YIELD node, score WITH collect({node:node, score:score}) AS nodes, max(score) AS max UNWIND nodes AS n RETURN n.node AS node, (n.score / max) AS score } WITH node, max(score) AS score ORDER BY score DESC LIMIT $k RETURN node.`text` AS text, score, node.id AS id, node {.*, `text`: Null, `embedding`: Null, id: Null } AS metadata'\n",
            "WARNING:neo4j.notifications:Received notification from DBMS server: {severity: WARNING} {code: Neo.ClientNotification.Statement.FeatureDeprecationWarning} {category: DEPRECATION} {title: This feature is deprecated and will be removed in future versions.} {description: CALL subquery without a variable scope clause is now deprecated. Use CALL () { ... }} {position: line: 1, column: 1, offset: 0} for query: 'CALL { CALL db.index.vector.queryNodes($index, $k, $embedding) YIELD node, score WITH collect({node:node, score:score}) AS nodes, max(score) AS max UNWIND nodes AS n RETURN n.node AS node, (n.score / max) AS score UNION CALL db.index.fulltext.queryNodes($keyword_index, $query, {limit: $k}) YIELD node, score WITH collect({node:node, score:score}) AS nodes, max(score) AS max UNWIND nodes AS n RETURN n.node AS node, (n.score / max) AS score } WITH node, max(score) AS score ORDER BY score DESC LIMIT $k RETURN node.`text` AS text, score, node.id AS id, node {.*, `text`: Null, `embedding`: Null, id: Null } AS metadata'\n",
            "WARNING:neo4j.notifications:Received notification from DBMS server: {severity: WARNING} {code: Neo.ClientNotification.Statement.FeatureDeprecationWarning} {category: DEPRECATION} {title: This feature is deprecated and will be removed in future versions.} {description: CALL subquery without a variable scope clause is now deprecated. Use CALL () { ... }} {position: line: 1, column: 1, offset: 0} for query: 'CALL { CALL db.index.vector.queryNodes($index, $k, $embedding) YIELD node, score WITH collect({node:node, score:score}) AS nodes, max(score) AS max UNWIND nodes AS n RETURN n.node AS node, (n.score / max) AS score UNION CALL db.index.fulltext.queryNodes($keyword_index, $query, {limit: $k}) YIELD node, score WITH collect({node:node, score:score}) AS nodes, max(score) AS max UNWIND nodes AS n RETURN n.node AS node, (n.score / max) AS score } WITH node, max(score) AS score ORDER BY score DESC LIMIT $k RETURN node.`text` AS text, score, node.id AS id, node {.*, `text`: Null, `embedding`: Null, id: Null } AS metadata'\n"
          ]
        }
      ]
    },
    {
      "cell_type": "code",
      "source": [
        "pprint_response(response, show_source=True)"
      ],
      "metadata": {
        "colab": {
          "base_uri": "https://localhost:8080/"
        },
        "id": "hvVG1TPjLz5-",
        "outputId": "194a6c60-8f08-476e-db35-66ae5f7080d1"
      },
      "execution_count": 13,
      "outputs": [
        {
          "output_type": "stream",
          "name": "stdout",
          "text": [
            "Final Response: To export spare parts under SCOMET as part of a stock\n",
            "and sale arrangement, the following requirements must be met:  All\n",
            "requirements listed for bulk export of SCOMET items for stock and sale\n",
            "(point 5)  must be fulfilled.  These include:  * **Same\n",
            "Country/Entities:** The foreign buyer, consignee (and any\n",
            "intermediaries), end-user, and end-use must be identical to those for\n",
            "which export authorization was previously issued to the applicant\n",
            "exporter after proper consultation/verification. * **Copy of Original\n",
            "SCOMET Authorization:**  A copy of the original SCOMET authorization\n",
            "is needed. * **Purchase Order Copy:** A copy of the purchase order is\n",
            "required. * **End-user Certificate:** An end-user certificate in the\n",
            "prescribed format (Appendix 10j(i), 10j(ii), 10j(iii) as applicable)\n",
            "is necessary. * **Technical Specification of the Item:**  Technical\n",
            "specifications of the item must be provided. * **Para 10.10 of HBP\n",
            "2023:** Adherence to Para 10.10 of HBP 2023 is mandatory. *\n",
            "**Application in prescribed proforma (ANF-10B):** The application must\n",
            "be submitted using the prescribed proforma (ANF-10B). * **Documentary\n",
            "proof of corporate relationship:** Documentary evidence demonstrating\n",
            "the corporate relationship between the Indian exporter and the\n",
            "stockist is required. * **End-use/End-user Certificate from\n",
            "stockist:** An end-use/end-user certificate from the stockist entity\n",
            "abroad (Appendix 10J(iii)) is needed. * **List of countries:** A list\n",
            "of countries (in the EUC) to which the stockist will export the items\n",
            "imported from India must be provided.   **In addition to the above\n",
            "(point 6):**  * **Judicious and Reasonable Assessment of Spare Part\n",
            "Requirement:** The applicant must indicate the requirement for spare\n",
            "parts, justifying this need with a judicious and reasonable\n",
            "assessment.   In summary, exporting spare parts under SCOMET within a\n",
            "stock and sale arrangement necessitates fulfilling all the\n",
            "stipulations for general stock and sale exports, plus a detailed\n",
            "justification for the specific spare parts included.  The provided\n",
            "text does not detail the specifics of a \"judicious and reasonable\n",
            "assessment,\" but it implies a level of demonstrable need beyond a\n",
            "simple request.\n",
            "______________________________________________________________________\n",
            "Source Node 1/2\n",
            "Node ID: cbd6a98e-a046-42db-bb67-f66d9ffceda6\n",
            "Similarity: 1.0\n",
            "Text: Same country/entities would imply that (a) the foreign buyer (b)\n",
            "the consignee or the intermediaries, if any (c) the end user  and (d)\n",
            "the end use are exactly the same for which export authorisation has\n",
            "been issued to the applicant exporter earlier after due\n",
            "consultation/verification. Copy of Original SCOMET Authorization\n",
            "Purchase Order Copy En...\n",
            "______________________________________________________________________\n",
            "Source Node 2/2\n",
            "Node ID: ac0b8a2d-62d5-48aa-98fe-20520a680fff\n",
            "Similarity: 1.0\n",
            "Text: Same country/entities would imply that (a) the foreign buyer (b)\n",
            "the consignee or the intermediaries, if any (c) the end user  and (d)\n",
            "the end use are exactly the same for which export authorisation has\n",
            "been issued to the applicant exporter earlier after due\n",
            "consultation/verification. Copy of Original SCOMET Authorization\n",
            "Purchase Order Copy En...\n"
          ]
        }
      ]
    },
    {
      "cell_type": "code",
      "source": [
        "print(\"Relevant Page Numbers:\", ', '.join(map(str, get_page_numbers(response.source_nodes))))"
      ],
      "metadata": {
        "colab": {
          "base_uri": "https://localhost:8080/"
        },
        "id": "nqRbcf3JRxCF",
        "outputId": "52998e6e-b297-45f4-eed4-0585101f5f74"
      },
      "execution_count": 68,
      "outputs": [
        {
          "output_type": "stream",
          "name": "stdout",
          "text": [
            "Page Numbers: 18, 19, 25, 27, 28\n"
          ]
        }
      ]
    }
  ]
}